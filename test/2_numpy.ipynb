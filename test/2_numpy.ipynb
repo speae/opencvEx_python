{
 "cells": [
  {
   "cell_type": "code",
   "execution_count": 1,
   "metadata": {
    "executionInfo": {
     "elapsed": 500,
     "status": "ok",
     "timestamp": 1625586358403,
     "user": {
      "displayName": "박희진",
      "photoUrl": "https://lh3.googleusercontent.com/a-/AOh14GjEM1h4_jlaIbqsJqo5PlhcC4bBQIxlt5_Z7Y_oGg=s64",
      "userId": "04727579243057026808"
     },
     "user_tz": -540
    },
    "id": "vRbhAqrPPUSJ"
   },
   "outputs": [],
   "source": [
    "import numpy as np"
   ]
  },
  {
   "cell_type": "markdown",
   "metadata": {
    "id": "5udnDdRaPwEO"
   },
   "source": [
    "## 1. 슬라이싱 (Slicing)"
   ]
  },
  {
   "cell_type": "markdown",
   "metadata": {
    "id": "OsFvaJktP0b_"
   },
   "source": [
    "배열의 부분 선택 (잘라내기)"
   ]
  },
  {
   "cell_type": "code",
   "execution_count": 2,
   "metadata": {
    "executionInfo": {
     "elapsed": 309,
     "status": "ok",
     "timestamp": 1625586377453,
     "user": {
      "displayName": "박희진",
      "photoUrl": "https://lh3.googleusercontent.com/a-/AOh14GjEM1h4_jlaIbqsJqo5PlhcC4bBQIxlt5_Z7Y_oGg=s64",
      "userId": "04727579243057026808"
     },
     "user_tz": -540
    },
    "id": "6keEerG8P_S5"
   },
   "outputs": [],
   "source": [
    "arr = np.array([0, 1, 2, 3, 4, 5, 6, 7, 8, 9])"
   ]
  },
  {
   "cell_type": "code",
   "execution_count": 9,
   "metadata": {
    "colab": {
     "base_uri": "https://localhost:8080/"
    },
    "executionInfo": {
     "elapsed": 2,
     "status": "ok",
     "timestamp": 1625586377755,
     "user": {
      "displayName": "박희진",
      "photoUrl": "https://lh3.googleusercontent.com/a-/AOh14GjEM1h4_jlaIbqsJqo5PlhcC4bBQIxlt5_Z7Y_oGg=s64",
      "userId": "04727579243057026808"
     },
     "user_tz": -540
    },
    "id": "h4hJvNn9QFNt",
    "outputId": "89045140-e77b-4393-903b-a4e7e9976966"
   },
   "outputs": [
    {
     "data": {
      "text/plain": [
       "(10,)"
      ]
     },
     "execution_count": 9,
     "metadata": {
      "tags": []
     },
     "output_type": "execute_result"
    }
   ],
   "source": [
    "arr.shape"
   ]
  },
  {
   "cell_type": "markdown",
   "metadata": {
    "id": "Srgo4QWxQXZN"
   },
   "source": [
    "### 1-1. index 지정하여 색인"
   ]
  },
  {
   "cell_type": "markdown",
   "metadata": {
    "id": "G9hLG9ZZRn3P"
   },
   "source": [
    "#### 1차원 array"
   ]
  },
  {
   "cell_type": "code",
   "execution_count": 10,
   "metadata": {
    "executionInfo": {
     "elapsed": 2,
     "status": "ok",
     "timestamp": 1625586379033,
     "user": {
      "displayName": "박희진",
      "photoUrl": "https://lh3.googleusercontent.com/a-/AOh14GjEM1h4_jlaIbqsJqo5PlhcC4bBQIxlt5_Z7Y_oGg=s64",
      "userId": "04727579243057026808"
     },
     "user_tz": -540
    },
    "id": "9vqX0uhOSKSp"
   },
   "outputs": [],
   "source": [
    "arr = np.array([0, 1, 2, 3, 4, 5, 6, 7, 8, 9])"
   ]
  },
  {
   "cell_type": "code",
   "execution_count": 11,
   "metadata": {
    "colab": {
     "base_uri": "https://localhost:8080/"
    },
    "executionInfo": {
     "elapsed": 5,
     "status": "ok",
     "timestamp": 1625586379375,
     "user": {
      "displayName": "박희진",
      "photoUrl": "https://lh3.googleusercontent.com/a-/AOh14GjEM1h4_jlaIbqsJqo5PlhcC4bBQIxlt5_Z7Y_oGg=s64",
      "userId": "04727579243057026808"
     },
     "user_tz": -540
    },
    "id": "cXZG1g94QV_i",
    "outputId": "4f5b4168-0364-4ca5-c747-3f2bb6f988d9"
   },
   "outputs": [
    {
     "data": {
      "text/plain": [
       "0"
      ]
     },
     "execution_count": 11,
     "metadata": {
      "tags": []
     },
     "output_type": "execute_result"
    }
   ],
   "source": [
    "arr[0]"
   ]
  },
  {
   "cell_type": "code",
   "execution_count": 12,
   "metadata": {
    "colab": {
     "base_uri": "https://localhost:8080/"
    },
    "executionInfo": {
     "elapsed": 3,
     "status": "ok",
     "timestamp": 1625586379685,
     "user": {
      "displayName": "박희진",
      "photoUrl": "https://lh3.googleusercontent.com/a-/AOh14GjEM1h4_jlaIbqsJqo5PlhcC4bBQIxlt5_Z7Y_oGg=s64",
      "userId": "04727579243057026808"
     },
     "user_tz": -540
    },
    "id": "5posuZniQVks",
    "outputId": "402d4b6a-d86d-4267-cf7c-516f7e4c6ae3"
   },
   "outputs": [
    {
     "data": {
      "text/plain": [
       "5"
      ]
     },
     "execution_count": 12,
     "metadata": {
      "tags": []
     },
     "output_type": "execute_result"
    }
   ],
   "source": [
    "arr[5]"
   ]
  },
  {
   "cell_type": "code",
   "execution_count": 13,
   "metadata": {
    "colab": {
     "base_uri": "https://localhost:8080/",
     "height": 195
    },
    "executionInfo": {
     "elapsed": 309,
     "status": "error",
     "timestamp": 1625586426104,
     "user": {
      "displayName": "박희진",
      "photoUrl": "https://lh3.googleusercontent.com/a-/AOh14GjEM1h4_jlaIbqsJqo5PlhcC4bBQIxlt5_Z7Y_oGg=s64",
      "userId": "04727579243057026808"
     },
     "user_tz": -540
    },
    "id": "8P2cdAGJQf0u",
    "outputId": "8b7d5ed1-0829-44aa-c3d0-1ffe3c441f06"
   },
   "outputs": [
    {
     "ename": "IndexError",
     "evalue": "ignored",
     "output_type": "error",
     "traceback": [
      "\u001B[0;31m---------------------------------------------------------------------------\u001B[0m",
      "\u001B[0;31mIndexError\u001B[0m                                Traceback (most recent call last)",
      "\u001B[0;32m<ipython-input-13-7b09df4a2509>\u001B[0m in \u001B[0;36m<module>\u001B[0;34m()\u001B[0m\n\u001B[1;32m      1\u001B[0m \u001B[0;31m# 10번째 리스트는 없다. 따라서 out of bounds에러가 발생\u001B[0m\u001B[0;34m\u001B[0m\u001B[0;34m\u001B[0m\u001B[0;34m\u001B[0m\u001B[0m\n\u001B[0;32m----> 2\u001B[0;31m \u001B[0marr\u001B[0m\u001B[0;34m[\u001B[0m\u001B[0;36m10\u001B[0m\u001B[0;34m]\u001B[0m\u001B[0;34m\u001B[0m\u001B[0;34m\u001B[0m\u001B[0m\n\u001B[0m",
      "\u001B[0;31mIndexError\u001B[0m: index 10 is out of bounds for axis 0 with size 10"
     ]
    }
   ],
   "source": [
    "# 10번째 리스트는 없다. 따라서 out of bounds에러가 발생\n",
    "arr[10]"
   ]
  },
  {
   "cell_type": "code",
   "execution_count": 14,
   "metadata": {
    "colab": {
     "base_uri": "https://localhost:8080/"
    },
    "executionInfo": {
     "elapsed": 298,
     "status": "ok",
     "timestamp": 1625586466375,
     "user": {
      "displayName": "박희진",
      "photoUrl": "https://lh3.googleusercontent.com/a-/AOh14GjEM1h4_jlaIbqsJqo5PlhcC4bBQIxlt5_Z7Y_oGg=s64",
      "userId": "04727579243057026808"
     },
     "user_tz": -540
    },
    "id": "rKKihrqcQhMR",
    "outputId": "7322e9ab-ec09-4260-f443-ab8b8ab80454"
   },
   "outputs": [
    {
     "data": {
      "text/plain": [
       "9"
      ]
     },
     "execution_count": 14,
     "metadata": {
      "tags": []
     },
     "output_type": "execute_result"
    }
   ],
   "source": [
    "# 그러나 -1은 가능, -1은 뒤에서 첫번째로 이해하자. \n",
    "arr[-1]"
   ]
  },
  {
   "cell_type": "code",
   "execution_count": 15,
   "metadata": {
    "colab": {
     "base_uri": "https://localhost:8080/"
    },
    "executionInfo": {
     "elapsed": 304,
     "status": "ok",
     "timestamp": 1625586468056,
     "user": {
      "displayName": "박희진",
      "photoUrl": "https://lh3.googleusercontent.com/a-/AOh14GjEM1h4_jlaIbqsJqo5PlhcC4bBQIxlt5_Z7Y_oGg=s64",
      "userId": "04727579243057026808"
     },
     "user_tz": -540
    },
    "id": "4Ly74kYZQkQg",
    "outputId": "5f6eca9f-3ff6-4af6-910f-fbc3debd160f"
   },
   "outputs": [
    {
     "data": {
      "text/plain": [
       "0"
      ]
     },
     "execution_count": 15,
     "metadata": {
      "tags": []
     },
     "output_type": "execute_result"
    }
   ],
   "source": [
    "arr[-10]"
   ]
  },
  {
   "cell_type": "code",
   "execution_count": 17,
   "metadata": {
    "colab": {
     "base_uri": "https://localhost:8080/",
     "height": 195
    },
    "executionInfo": {
     "elapsed": 319,
     "status": "error",
     "timestamp": 1625586505374,
     "user": {
      "displayName": "박희진",
      "photoUrl": "https://lh3.googleusercontent.com/a-/AOh14GjEM1h4_jlaIbqsJqo5PlhcC4bBQIxlt5_Z7Y_oGg=s64",
      "userId": "04727579243057026808"
     },
     "user_tz": -540
    },
    "id": "nF-KS39MQp_y",
    "outputId": "dfdded3b-d459-4513-ad09-ced90e3d9312"
   },
   "outputs": [
    {
     "ename": "IndexError",
     "evalue": "ignored",
     "output_type": "error",
     "traceback": [
      "\u001B[0;31m---------------------------------------------------------------------------\u001B[0m",
      "\u001B[0;31mIndexError\u001B[0m                                Traceback (most recent call last)",
      "\u001B[0;32m<ipython-input-17-03ff1d8153b7>\u001B[0m in \u001B[0;36m<module>\u001B[0;34m()\u001B[0m\n\u001B[1;32m      1\u001B[0m \u001B[0;31m# 뒤에서 11번째도 없다. 이것도 out of bounds에러\u001B[0m\u001B[0;34m\u001B[0m\u001B[0;34m\u001B[0m\u001B[0;34m\u001B[0m\u001B[0m\n\u001B[0;32m----> 2\u001B[0;31m \u001B[0marr\u001B[0m\u001B[0;34m[\u001B[0m\u001B[0;34m-\u001B[0m\u001B[0;36m11\u001B[0m\u001B[0;34m]\u001B[0m\u001B[0;34m\u001B[0m\u001B[0;34m\u001B[0m\u001B[0m\n\u001B[0m",
      "\u001B[0;31mIndexError\u001B[0m: index -11 is out of bounds for axis 0 with size 10"
     ]
    }
   ],
   "source": [
    "# 뒤에서 11번째도 없다. 이것도 out of bounds에러\n",
    "arr[-11]"
   ]
  },
  {
   "cell_type": "markdown",
   "metadata": {
    "id": "wl0C7KPNRrAI"
   },
   "source": [
    "#### 2차원 array"
   ]
  },
  {
   "cell_type": "code",
   "execution_count": 3,
   "metadata": {
    "executionInfo": {
     "elapsed": 298,
     "status": "ok",
     "timestamp": 1625586509984,
     "user": {
      "displayName": "박희진",
      "photoUrl": "https://lh3.googleusercontent.com/a-/AOh14GjEM1h4_jlaIbqsJqo5PlhcC4bBQIxlt5_Z7Y_oGg=s64",
      "userId": "04727579243057026808"
     },
     "user_tz": -540
    },
    "id": "HsiBC5kxRs6y"
   },
   "outputs": [],
   "source": [
    "arr2d = np.array([[1, 2, 3, 4], \n",
    "                  [5, 6, 7, 8], \n",
    "                  [9, 10, 11, 12]])"
   ]
  },
  {
   "cell_type": "code",
   "execution_count": 6,
   "metadata": {},
   "outputs": [
    {
     "data": {
      "text/plain": [
       "array([[1, 2],\n",
       "       [5, 6]])"
      ]
     },
     "execution_count": 6,
     "metadata": {},
     "output_type": "execute_result"
    }
   ],
   "source": [
    "# 0행 시작 ~ 2행 미만, 0컬럼 이상 ~ 2컬럼 미만\n",
    "arr2d[0:2, 0:2]"
   ]
  },
  {
   "cell_type": "code",
   "execution_count": 19,
   "metadata": {
    "colab": {
     "base_uri": "https://localhost:8080/"
    },
    "executionInfo": {
     "elapsed": 1,
     "status": "ok",
     "timestamp": 1625586510324,
     "user": {
      "displayName": "박희진",
      "photoUrl": "https://lh3.googleusercontent.com/a-/AOh14GjEM1h4_jlaIbqsJqo5PlhcC4bBQIxlt5_Z7Y_oGg=s64",
      "userId": "04727579243057026808"
     },
     "user_tz": -540
    },
    "id": "fuJ8ZLpLRsx_",
    "outputId": "568873d6-063d-40e1-ef9a-405284257088"
   },
   "outputs": [
    {
     "data": {
      "text/plain": [
       "(3, 4)"
      ]
     },
     "execution_count": 19,
     "metadata": {
      "tags": []
     },
     "output_type": "execute_result"
    }
   ],
   "source": [
    "arr2d.shape"
   ]
  },
  {
   "cell_type": "markdown",
   "metadata": {
    "id": "YfTsIia7RzrQ"
   },
   "source": [
    "arr2d[행, 열]"
   ]
  },
  {
   "cell_type": "code",
   "execution_count": 20,
   "metadata": {
    "colab": {
     "base_uri": "https://localhost:8080/"
    },
    "executionInfo": {
     "elapsed": 3,
     "status": "ok",
     "timestamp": 1625586511245,
     "user": {
      "displayName": "박희진",
      "photoUrl": "https://lh3.googleusercontent.com/a-/AOh14GjEM1h4_jlaIbqsJqo5PlhcC4bBQIxlt5_Z7Y_oGg=s64",
      "userId": "04727579243057026808"
     },
     "user_tz": -540
    },
    "id": "zO9fguiHRyCR",
    "outputId": "d605020f-1da1-4271-9556-150d61b95ede"
   },
   "outputs": [
    {
     "data": {
      "text/plain": [
       "3"
      ]
     },
     "execution_count": 20,
     "metadata": {
      "tags": []
     },
     "output_type": "execute_result"
    }
   ],
   "source": [
    "arr2d[0, 2]"
   ]
  },
  {
   "cell_type": "code",
   "execution_count": 21,
   "metadata": {
    "colab": {
     "base_uri": "https://localhost:8080/"
    },
    "executionInfo": {
     "elapsed": 2,
     "status": "ok",
     "timestamp": 1625586511576,
     "user": {
      "displayName": "박희진",
      "photoUrl": "https://lh3.googleusercontent.com/a-/AOh14GjEM1h4_jlaIbqsJqo5PlhcC4bBQIxlt5_Z7Y_oGg=s64",
      "userId": "04727579243057026808"
     },
     "user_tz": -540
    },
    "id": "qbo4YbpsRxyO",
    "outputId": "5678d6f3-b60d-4ac0-933a-10d1edecc068"
   },
   "outputs": [
    {
     "data": {
      "text/plain": [
       "10"
      ]
     },
     "execution_count": 21,
     "metadata": {
      "tags": []
     },
     "output_type": "execute_result"
    }
   ],
   "source": [
    "arr2d[2, 1]"
   ]
  },
  {
   "cell_type": "markdown",
   "metadata": {
    "id": "A9JfdvmOQshs"
   },
   "source": [
    "### 1-2. 범위 색인"
   ]
  },
  {
   "cell_type": "markdown",
   "metadata": {
    "id": "HofWSyh-SCgA"
   },
   "source": [
    "#### 1차원"
   ]
  },
  {
   "cell_type": "markdown",
   "metadata": {
    "id": "6EGyB84QQw8j"
   },
   "source": [
    "index 1**이상** 끝까지"
   ]
  },
  {
   "cell_type": "code",
   "execution_count": 22,
   "metadata": {
    "colab": {
     "base_uri": "https://localhost:8080/"
    },
    "executionInfo": {
     "elapsed": 2,
     "status": "ok",
     "timestamp": 1625586514084,
     "user": {
      "displayName": "박희진",
      "photoUrl": "https://lh3.googleusercontent.com/a-/AOh14GjEM1h4_jlaIbqsJqo5PlhcC4bBQIxlt5_Z7Y_oGg=s64",
      "userId": "04727579243057026808"
     },
     "user_tz": -540
    },
    "id": "Yp9guIXUk45v",
    "outputId": "3120601e-499c-416b-857a-de93f2641444"
   },
   "outputs": [
    {
     "data": {
      "text/plain": [
       "array([0, 1, 2, 3, 4, 5, 6, 7, 8, 9])"
      ]
     },
     "execution_count": 22,
     "metadata": {
      "tags": []
     },
     "output_type": "execute_result"
    }
   ],
   "source": [
    "arr"
   ]
  },
  {
   "cell_type": "code",
   "execution_count": 23,
   "metadata": {
    "colab": {
     "base_uri": "https://localhost:8080/"
    },
    "executionInfo": {
     "elapsed": 2,
     "status": "ok",
     "timestamp": 1625586514495,
     "user": {
      "displayName": "박희진",
      "photoUrl": "https://lh3.googleusercontent.com/a-/AOh14GjEM1h4_jlaIbqsJqo5PlhcC4bBQIxlt5_Z7Y_oGg=s64",
      "userId": "04727579243057026808"
     },
     "user_tz": -540
    },
    "id": "ooPQcNovQvS-",
    "outputId": "7f022379-c8a5-4a1b-a301-1db18a933203"
   },
   "outputs": [
    {
     "data": {
      "text/plain": [
       "array([1, 2, 3, 4, 5, 6, 7, 8, 9])"
      ]
     },
     "execution_count": 23,
     "metadata": {
      "tags": []
     },
     "output_type": "execute_result"
    }
   ],
   "source": [
    "arr[1:]"
   ]
  },
  {
   "cell_type": "markdown",
   "metadata": {
    "id": "oK-Q2U4kQz2w"
   },
   "source": [
    "index 5 **미만** 까지"
   ]
  },
  {
   "cell_type": "code",
   "execution_count": 24,
   "metadata": {
    "colab": {
     "base_uri": "https://localhost:8080/"
    },
    "executionInfo": {
     "elapsed": 1,
     "status": "ok",
     "timestamp": 1625586515410,
     "user": {
      "displayName": "박희진",
      "photoUrl": "https://lh3.googleusercontent.com/a-/AOh14GjEM1h4_jlaIbqsJqo5PlhcC4bBQIxlt5_Z7Y_oGg=s64",
      "userId": "04727579243057026808"
     },
     "user_tz": -540
    },
    "id": "XFqkQSkKRIl_",
    "outputId": "b7b9fbec-92aa-4870-8fb9-e4ff3a775304"
   },
   "outputs": [
    {
     "data": {
      "text/plain": [
       "array([0, 1, 2, 3, 4])"
      ]
     },
     "execution_count": 24,
     "metadata": {
      "tags": []
     },
     "output_type": "execute_result"
    }
   ],
   "source": [
    "arr[:5]"
   ]
  },
  {
   "cell_type": "markdown",
   "metadata": {
    "id": "qZbdF9riRIh5"
   },
   "source": [
    "index 1이상 5미만"
   ]
  },
  {
   "cell_type": "code",
   "execution_count": 25,
   "metadata": {
    "colab": {
     "base_uri": "https://localhost:8080/"
    },
    "executionInfo": {
     "elapsed": 2,
     "status": "ok",
     "timestamp": 1625586516364,
     "user": {
      "displayName": "박희진",
      "photoUrl": "https://lh3.googleusercontent.com/a-/AOh14GjEM1h4_jlaIbqsJqo5PlhcC4bBQIxlt5_Z7Y_oGg=s64",
      "userId": "04727579243057026808"
     },
     "user_tz": -540
    },
    "id": "0txKbZfGRIdD",
    "outputId": "e33d297f-87b1-48ae-d190-c2b67fd066f4"
   },
   "outputs": [
    {
     "data": {
      "text/plain": [
       "array([1, 2, 3, 4])"
      ]
     },
     "execution_count": 25,
     "metadata": {
      "tags": []
     },
     "output_type": "execute_result"
    }
   ],
   "source": [
    "arr[1:5]"
   ]
  },
  {
   "cell_type": "code",
   "execution_count": 26,
   "metadata": {
    "colab": {
     "base_uri": "https://localhost:8080/"
    },
    "executionInfo": {
     "elapsed": 3,
     "status": "ok",
     "timestamp": 1625586516804,
     "user": {
      "displayName": "박희진",
      "photoUrl": "https://lh3.googleusercontent.com/a-/AOh14GjEM1h4_jlaIbqsJqo5PlhcC4bBQIxlt5_Z7Y_oGg=s64",
      "userId": "04727579243057026808"
     },
     "user_tz": -540
    },
    "id": "HCb6pWxrRIWW",
    "outputId": "b48d289d-764c-4f44-fbba-6395ca5d705b"
   },
   "outputs": [
    {
     "data": {
      "text/plain": [
       "array([0, 1, 2, 3, 4, 5, 6, 7, 8])"
      ]
     },
     "execution_count": 26,
     "metadata": {
      "tags": []
     },
     "output_type": "execute_result"
    }
   ],
   "source": [
    "arr[:-1]"
   ]
  },
  {
   "cell_type": "markdown",
   "metadata": {
    "id": "I6JtSZjoSEn4"
   },
   "source": [
    "#### 2차원"
   ]
  },
  {
   "cell_type": "code",
   "execution_count": 27,
   "metadata": {
    "executionInfo": {
     "elapsed": 1,
     "status": "ok",
     "timestamp": 1625586517777,
     "user": {
      "displayName": "박희진",
      "photoUrl": "https://lh3.googleusercontent.com/a-/AOh14GjEM1h4_jlaIbqsJqo5PlhcC4bBQIxlt5_Z7Y_oGg=s64",
      "userId": "04727579243057026808"
     },
     "user_tz": -540
    },
    "id": "9lf5XlZSSGOO"
   },
   "outputs": [],
   "source": [
    "arr2d = np.array([[1, 2, 3, 4], \n",
    "                  [5, 6, 7, 8], \n",
    "                  [9, 10, 11, 12]])"
   ]
  },
  {
   "cell_type": "markdown",
   "metadata": {
    "id": "HR_JODwpSWKq"
   },
   "source": [
    "row(행)을 모두 가져오려는 경우"
   ]
  },
  {
   "cell_type": "code",
   "execution_count": 28,
   "metadata": {
    "colab": {
     "base_uri": "https://localhost:8080/"
    },
    "executionInfo": {
     "elapsed": 2,
     "status": "ok",
     "timestamp": 1625586518784,
     "user": {
      "displayName": "박희진",
      "photoUrl": "https://lh3.googleusercontent.com/a-/AOh14GjEM1h4_jlaIbqsJqo5PlhcC4bBQIxlt5_Z7Y_oGg=s64",
      "userId": "04727579243057026808"
     },
     "user_tz": -540
    },
    "id": "iXoayqA8SMFc",
    "outputId": "105a9a16-40ae-4d9d-f5a9-26de77111da1"
   },
   "outputs": [
    {
     "data": {
      "text/plain": [
       "array([1, 2, 3, 4])"
      ]
     },
     "execution_count": 28,
     "metadata": {
      "tags": []
     },
     "output_type": "execute_result"
    }
   ],
   "source": [
    "arr2d[0, :]"
   ]
  },
  {
   "cell_type": "code",
   "execution_count": 29,
   "metadata": {
    "colab": {
     "base_uri": "https://localhost:8080/"
    },
    "executionInfo": {
     "elapsed": 4,
     "status": "ok",
     "timestamp": 1625586519234,
     "user": {
      "displayName": "박희진",
      "photoUrl": "https://lh3.googleusercontent.com/a-/AOh14GjEM1h4_jlaIbqsJqo5PlhcC4bBQIxlt5_Z7Y_oGg=s64",
      "userId": "04727579243057026808"
     },
     "user_tz": -540
    },
    "id": "9P8RTVU6sUCl",
    "outputId": "887c34f2-a5bb-41a5-ecb3-5bf721e18391"
   },
   "outputs": [
    {
     "data": {
      "text/plain": [
       "(4,)"
      ]
     },
     "execution_count": 29,
     "metadata": {
      "tags": []
     },
     "output_type": "execute_result"
    }
   ],
   "source": [
    "arr2d[0, :].shape"
   ]
  },
  {
   "cell_type": "markdown",
   "metadata": {
    "id": "0CjCWzNhSZjq"
   },
   "source": [
    "column(열)을 모두 가져오려는 경우"
   ]
  },
  {
   "cell_type": "code",
   "execution_count": 30,
   "metadata": {
    "colab": {
     "base_uri": "https://localhost:8080/"
    },
    "executionInfo": {
     "elapsed": 300,
     "status": "ok",
     "timestamp": 1625586520584,
     "user": {
      "displayName": "박희진",
      "photoUrl": "https://lh3.googleusercontent.com/a-/AOh14GjEM1h4_jlaIbqsJqo5PlhcC4bBQIxlt5_Z7Y_oGg=s64",
      "userId": "04727579243057026808"
     },
     "user_tz": -540
    },
    "id": "2I_If7CjSS7O",
    "outputId": "b191d784-cc4f-4c4b-f09f-576c87ab0904"
   },
   "outputs": [
    {
     "data": {
      "text/plain": [
       "array([ 3,  7, 11])"
      ]
     },
     "execution_count": 30,
     "metadata": {
      "tags": []
     },
     "output_type": "execute_result"
    }
   ],
   "source": [
    "arr2d[:, 2]"
   ]
  },
  {
   "cell_type": "markdown",
   "metadata": {
    "id": "p4s8f42xSL94"
   },
   "source": [
    "부분 적으로 가져오려는 경우"
   ]
  },
  {
   "cell_type": "code",
   "execution_count": 31,
   "metadata": {
    "colab": {
     "base_uri": "https://localhost:8080/"
    },
    "executionInfo": {
     "elapsed": 2,
     "status": "ok",
     "timestamp": 1625586521368,
     "user": {
      "displayName": "박희진",
      "photoUrl": "https://lh3.googleusercontent.com/a-/AOh14GjEM1h4_jlaIbqsJqo5PlhcC4bBQIxlt5_Z7Y_oGg=s64",
      "userId": "04727579243057026808"
     },
     "user_tz": -540
    },
    "id": "SEE-HpBTSfv5",
    "outputId": "d0bf4105-0fc1-4b8d-f6a2-cebcc15ab3ed"
   },
   "outputs": [
    {
     "data": {
      "text/plain": [
       "array([[1, 2, 3, 4],\n",
       "       [5, 6, 7, 8]])"
      ]
     },
     "execution_count": 31,
     "metadata": {
      "tags": []
     },
     "output_type": "execute_result"
    }
   ],
   "source": [
    "arr2d[:2, :]"
   ]
  },
  {
   "cell_type": "code",
   "execution_count": 32,
   "metadata": {
    "colab": {
     "base_uri": "https://localhost:8080/"
    },
    "executionInfo": {
     "elapsed": 3,
     "status": "ok",
     "timestamp": 1625586521844,
     "user": {
      "displayName": "박희진",
      "photoUrl": "https://lh3.googleusercontent.com/a-/AOh14GjEM1h4_jlaIbqsJqo5PlhcC4bBQIxlt5_Z7Y_oGg=s64",
      "userId": "04727579243057026808"
     },
     "user_tz": -540
    },
    "id": "5D7d5ozKSiXv",
    "outputId": "64608252-a41e-4f7d-ce9d-2e873f6e444e"
   },
   "outputs": [
    {
     "data": {
      "text/plain": [
       "array([[3, 4],\n",
       "       [7, 8]])"
      ]
     },
     "execution_count": 32,
     "metadata": {
      "tags": []
     },
     "output_type": "execute_result"
    }
   ],
   "source": [
    "arr2d[:2, 2:]"
   ]
  },
  {
   "cell_type": "code",
   "execution_count": 32,
   "metadata": {
    "executionInfo": {
     "elapsed": 1,
     "status": "ok",
     "timestamp": 1625586522452,
     "user": {
      "displayName": "박희진",
      "photoUrl": "https://lh3.googleusercontent.com/a-/AOh14GjEM1h4_jlaIbqsJqo5PlhcC4bBQIxlt5_Z7Y_oGg=s64",
      "userId": "04727579243057026808"
     },
     "user_tz": -540
    },
    "id": "QatNmv1eVjkH"
   },
   "outputs": [],
   "source": []
  },
  {
   "cell_type": "markdown",
   "metadata": {
    "id": "6wEBe7tbULky"
   },
   "source": [
    "## 2. Fancy 인덱싱"
   ]
  },
  {
   "cell_type": "markdown",
   "metadata": {
    "id": "ryx7onUgU7VT"
   },
   "source": [
    "fancy 인덱싱은 범위가 아닌 **특정 index의 집합의 값을 선택하여 추출**하고 싶을 때 활용합니다."
   ]
  },
  {
   "cell_type": "code",
   "execution_count": 33,
   "metadata": {
    "executionInfo": {
     "elapsed": 286,
     "status": "ok",
     "timestamp": 1625586523960,
     "user": {
      "displayName": "박희진",
      "photoUrl": "https://lh3.googleusercontent.com/a-/AOh14GjEM1h4_jlaIbqsJqo5PlhcC4bBQIxlt5_Z7Y_oGg=s64",
      "userId": "04727579243057026808"
     },
     "user_tz": -540
    },
    "id": "H-eFtxCRULUn"
   },
   "outputs": [],
   "source": [
    "arr = np.array([10, 23, 2, 7, 90, 65, 32, 66, 70])"
   ]
  },
  {
   "cell_type": "markdown",
   "metadata": {
    "id": "eUV5porzU5FP"
   },
   "source": [
    "반드시 **[추출하고 싶은 인덱스]** 꺾쇠 괄호로 묶어 주세요"
   ]
  },
  {
   "cell_type": "code",
   "execution_count": 34,
   "metadata": {
    "executionInfo": {
     "elapsed": 6,
     "status": "ok",
     "timestamp": 1625586524719,
     "user": {
      "displayName": "박희진",
      "photoUrl": "https://lh3.googleusercontent.com/a-/AOh14GjEM1h4_jlaIbqsJqo5PlhcC4bBQIxlt5_Z7Y_oGg=s64",
      "userId": "04727579243057026808"
     },
     "user_tz": -540
    },
    "id": "qPfJ5stMmNIB"
   },
   "outputs": [],
   "source": [
    "idx = [1, 3, 5]"
   ]
  },
  {
   "cell_type": "code",
   "execution_count": 35,
   "metadata": {
    "colab": {
     "base_uri": "https://localhost:8080/"
    },
    "executionInfo": {
     "elapsed": 4,
     "status": "ok",
     "timestamp": 1625586525074,
     "user": {
      "displayName": "박희진",
      "photoUrl": "https://lh3.googleusercontent.com/a-/AOh14GjEM1h4_jlaIbqsJqo5PlhcC4bBQIxlt5_Z7Y_oGg=s64",
      "userId": "04727579243057026808"
     },
     "user_tz": -540
    },
    "id": "FboAri6JULM6",
    "outputId": "cd403164-5fb5-4b2d-edfb-18615167fb26"
   },
   "outputs": [
    {
     "data": {
      "text/plain": [
       "array([23,  7, 65])"
      ]
     },
     "execution_count": 35,
     "metadata": {
      "tags": []
     },
     "output_type": "execute_result"
    }
   ],
   "source": [
    "arr[idx]"
   ]
  },
  {
   "cell_type": "markdown",
   "metadata": {
    "id": "4nYgmmgDU4eu"
   },
   "source": [
    "변수에 지정 후 추출도 가능합니다."
   ]
  },
  {
   "cell_type": "code",
   "execution_count": 36,
   "metadata": {
    "executionInfo": {
     "elapsed": 2,
     "status": "ok",
     "timestamp": 1625586526008,
     "user": {
      "displayName": "박희진",
      "photoUrl": "https://lh3.googleusercontent.com/a-/AOh14GjEM1h4_jlaIbqsJqo5PlhcC4bBQIxlt5_Z7Y_oGg=s64",
      "userId": "04727579243057026808"
     },
     "user_tz": -540
    },
    "id": "6kGTuv20ULEk"
   },
   "outputs": [],
   "source": [
    "idx = [1, 3, 5]"
   ]
  },
  {
   "cell_type": "code",
   "execution_count": 37,
   "metadata": {
    "colab": {
     "base_uri": "https://localhost:8080/"
    },
    "executionInfo": {
     "elapsed": 2,
     "status": "ok",
     "timestamp": 1625586526382,
     "user": {
      "displayName": "박희진",
      "photoUrl": "https://lh3.googleusercontent.com/a-/AOh14GjEM1h4_jlaIbqsJqo5PlhcC4bBQIxlt5_Z7Y_oGg=s64",
      "userId": "04727579243057026808"
     },
     "user_tz": -540
    },
    "id": "3RBEcwtDU2Dk",
    "outputId": "21b684a4-9fe7-4848-d551-27c63cbf2343"
   },
   "outputs": [
    {
     "data": {
      "text/plain": [
       "array([23,  7, 65])"
      ]
     },
     "execution_count": 37,
     "metadata": {
      "tags": []
     },
     "output_type": "execute_result"
    }
   ],
   "source": [
    "arr[idx]"
   ]
  },
  {
   "cell_type": "markdown",
   "metadata": {
    "id": "hx83f87VVX3r"
   },
   "source": [
    "### 2-2. 2차원 array"
   ]
  },
  {
   "cell_type": "code",
   "execution_count": 38,
   "metadata": {
    "executionInfo": {
     "elapsed": 2,
     "status": "ok",
     "timestamp": 1625586527308,
     "user": {
      "displayName": "박희진",
      "photoUrl": "https://lh3.googleusercontent.com/a-/AOh14GjEM1h4_jlaIbqsJqo5PlhcC4bBQIxlt5_Z7Y_oGg=s64",
      "userId": "04727579243057026808"
     },
     "user_tz": -540
    },
    "id": "fxCICJpcVYC_"
   },
   "outputs": [],
   "source": [
    "arr2d = np.array([[1, 2, 3, 4], \n",
    "                  [5, 6, 7, 8], \n",
    "                  [9, 10, 11, 12]])"
   ]
  },
  {
   "cell_type": "code",
   "execution_count": 39,
   "metadata": {
    "colab": {
     "base_uri": "https://localhost:8080/"
    },
    "executionInfo": {
     "elapsed": 2,
     "status": "ok",
     "timestamp": 1625586527661,
     "user": {
      "displayName": "박희진",
      "photoUrl": "https://lh3.googleusercontent.com/a-/AOh14GjEM1h4_jlaIbqsJqo5PlhcC4bBQIxlt5_Z7Y_oGg=s64",
      "userId": "04727579243057026808"
     },
     "user_tz": -540
    },
    "id": "hDmBdvm1V6qF",
    "outputId": "ce7b668f-82e7-41ad-98e7-db907d9eba3f"
   },
   "outputs": [
    {
     "data": {
      "text/plain": [
       "array([[1, 2, 3, 4],\n",
       "       [5, 6, 7, 8]])"
      ]
     },
     "execution_count": 39,
     "metadata": {
      "tags": []
     },
     "output_type": "execute_result"
    }
   ],
   "source": [
    "arr2d[[0, 1], :]"
   ]
  },
  {
   "cell_type": "code",
   "execution_count": 40,
   "metadata": {
    "colab": {
     "base_uri": "https://localhost:8080/"
    },
    "executionInfo": {
     "elapsed": 3,
     "status": "ok",
     "timestamp": 1625586528248,
     "user": {
      "displayName": "박희진",
      "photoUrl": "https://lh3.googleusercontent.com/a-/AOh14GjEM1h4_jlaIbqsJqo5PlhcC4bBQIxlt5_Z7Y_oGg=s64",
      "userId": "04727579243057026808"
     },
     "user_tz": -540
    },
    "id": "AIqPAa6sVyp7",
    "outputId": "47b9cd1a-31a9-46bd-b8c0-20510a3dc563"
   },
   "outputs": [
    {
     "data": {
      "text/plain": [
       "array([[ 2,  3,  4],\n",
       "       [ 6,  7,  8],\n",
       "       [10, 11, 12]])"
      ]
     },
     "execution_count": 40,
     "metadata": {
      "tags": []
     },
     "output_type": "execute_result"
    }
   ],
   "source": [
    "arr2d[:, [1, 2, 3]]"
   ]
  },
  {
   "cell_type": "code",
   "execution_count": 40,
   "metadata": {
    "executionInfo": {
     "elapsed": 2,
     "status": "ok",
     "timestamp": 1625586528596,
     "user": {
      "displayName": "박희진",
      "photoUrl": "https://lh3.googleusercontent.com/a-/AOh14GjEM1h4_jlaIbqsJqo5PlhcC4bBQIxlt5_Z7Y_oGg=s64",
      "userId": "04727579243057026808"
     },
     "user_tz": -540
    },
    "id": "BSoSPFQxVy_i"
   },
   "outputs": [],
   "source": []
  },
  {
   "cell_type": "code",
   "execution_count": 40,
   "metadata": {
    "executionInfo": {
     "elapsed": 2,
     "status": "ok",
     "timestamp": 1625586528597,
     "user": {
      "displayName": "박희진",
      "photoUrl": "https://lh3.googleusercontent.com/a-/AOh14GjEM1h4_jlaIbqsJqo5PlhcC4bBQIxlt5_Z7Y_oGg=s64",
      "userId": "04727579243057026808"
     },
     "user_tz": -540
    },
    "id": "Lc-6SCH5VzCe"
   },
   "outputs": [],
   "source": []
  },
  {
   "cell_type": "markdown",
   "metadata": {
    "id": "0jT1D1U9RIKy"
   },
   "source": [
    "## 3. Boolean 인덱싱"
   ]
  },
  {
   "cell_type": "markdown",
   "metadata": {
    "id": "L65N9DO0Rg-c"
   },
   "source": [
    "조건 필터링을 통하여 Boolean 값을 이용한 색인"
   ]
  },
  {
   "cell_type": "code",
   "execution_count": 41,
   "metadata": {
    "executionInfo": {
     "elapsed": 2,
     "status": "ok",
     "timestamp": 1625586530144,
     "user": {
      "displayName": "박희진",
      "photoUrl": "https://lh3.googleusercontent.com/a-/AOh14GjEM1h4_jlaIbqsJqo5PlhcC4bBQIxlt5_Z7Y_oGg=s64",
      "userId": "04727579243057026808"
     },
     "user_tz": -540
    },
    "id": "ThYLT1u3E_Q_"
   },
   "outputs": [],
   "source": [
    "arr = np.array([1, 2, 3, 4, 5, 6, 7])"
   ]
  },
  {
   "cell_type": "code",
   "execution_count": 42,
   "metadata": {
    "executionInfo": {
     "elapsed": 2,
     "status": "ok",
     "timestamp": 1625586530145,
     "user": {
      "displayName": "박희진",
      "photoUrl": "https://lh3.googleusercontent.com/a-/AOh14GjEM1h4_jlaIbqsJqo5PlhcC4bBQIxlt5_Z7Y_oGg=s64",
      "userId": "04727579243057026808"
     },
     "user_tz": -540
    },
    "id": "CwIVSLtaQOGq"
   },
   "outputs": [],
   "source": [
    "arr2d = np.array([[1, 2, 3, 4], \n",
    "                  [5, 6, 7, 8], \n",
    "                  [9, 10, 11, 12]])"
   ]
  },
  {
   "cell_type": "markdown",
   "metadata": {
    "id": "9h4s_JOFEzqB"
   },
   "source": [
    "### 3-1. True와 False 값으로 색인하기"
   ]
  },
  {
   "cell_type": "code",
   "execution_count": 43,
   "metadata": {
    "executionInfo": {
     "elapsed": 2,
     "status": "ok",
     "timestamp": 1625586530562,
     "user": {
      "displayName": "박희진",
      "photoUrl": "https://lh3.googleusercontent.com/a-/AOh14GjEM1h4_jlaIbqsJqo5PlhcC4bBQIxlt5_Z7Y_oGg=s64",
      "userId": "04727579243057026808"
     },
     "user_tz": -540
    },
    "id": "eyK_PJjJE4xf"
   },
   "outputs": [],
   "source": [
    "myTrueFalse = [True, False, True]"
   ]
  },
  {
   "cell_type": "code",
   "execution_count": 44,
   "metadata": {
    "colab": {
     "base_uri": "https://localhost:8080/",
     "height": 176
    },
    "executionInfo": {
     "elapsed": 5,
     "status": "error",
     "timestamp": 1625586530913,
     "user": {
      "displayName": "박희진",
      "photoUrl": "https://lh3.googleusercontent.com/a-/AOh14GjEM1h4_jlaIbqsJqo5PlhcC4bBQIxlt5_Z7Y_oGg=s64",
      "userId": "04727579243057026808"
     },
     "user_tz": -540
    },
    "id": "caCBOFDXFFM2",
    "outputId": "03f18f3f-3442-4fb3-b6e9-94743709fedd"
   },
   "outputs": [
    {
     "ename": "IndexError",
     "evalue": "ignored",
     "output_type": "error",
     "traceback": [
      "\u001B[0;31m---------------------------------------------------------------------------\u001B[0m",
      "\u001B[0;31mIndexError\u001B[0m                                Traceback (most recent call last)",
      "\u001B[0;32m<ipython-input-44-9c52b39d81ae>\u001B[0m in \u001B[0;36m<module>\u001B[0;34m()\u001B[0m\n\u001B[0;32m----> 1\u001B[0;31m \u001B[0marr\u001B[0m\u001B[0;34m[\u001B[0m\u001B[0mmyTrueFalse\u001B[0m\u001B[0;34m]\u001B[0m\u001B[0;34m\u001B[0m\u001B[0;34m\u001B[0m\u001B[0m\n\u001B[0m",
      "\u001B[0;31mIndexError\u001B[0m: boolean index did not match indexed array along dimension 0; dimension is 7 but corresponding boolean dimension is 3"
     ]
    }
   ],
   "source": [
    "# arr의 갯수는 \n",
    "arr[myTrueFalse]"
   ]
  },
  {
   "cell_type": "code",
   "execution_count": 45,
   "metadata": {
    "executionInfo": {
     "elapsed": 1,
     "status": "ok",
     "timestamp": 1625586531206,
     "user": {
      "displayName": "박희진",
      "photoUrl": "https://lh3.googleusercontent.com/a-/AOh14GjEM1h4_jlaIbqsJqo5PlhcC4bBQIxlt5_Z7Y_oGg=s64",
      "userId": "04727579243057026808"
     },
     "user_tz": -540
    },
    "id": "tGSkFFUXFHF2"
   },
   "outputs": [],
   "source": [
    "myTrueFalse = [True, False, True, False, True, False, True]"
   ]
  },
  {
   "cell_type": "code",
   "execution_count": 46,
   "metadata": {
    "colab": {
     "base_uri": "https://localhost:8080/"
    },
    "executionInfo": {
     "elapsed": 3,
     "status": "ok",
     "timestamp": 1625586531508,
     "user": {
      "displayName": "박희진",
      "photoUrl": "https://lh3.googleusercontent.com/a-/AOh14GjEM1h4_jlaIbqsJqo5PlhcC4bBQIxlt5_Z7Y_oGg=s64",
      "userId": "04727579243057026808"
     },
     "user_tz": -540
    },
    "id": "QuYWbMLlFMK6",
    "outputId": "d99e5338-7471-44d6-c5c3-574c445b8827"
   },
   "outputs": [
    {
     "data": {
      "text/plain": [
       "array([1, 3, 5, 7])"
      ]
     },
     "execution_count": 46,
     "metadata": {
      "tags": []
     },
     "output_type": "execute_result"
    }
   ],
   "source": [
    "arr[myTrueFalse]"
   ]
  },
  {
   "cell_type": "code",
   "execution_count": 46,
   "metadata": {
    "executionInfo": {
     "elapsed": 2,
     "status": "ok",
     "timestamp": 1625586531832,
     "user": {
      "displayName": "박희진",
      "photoUrl": "https://lh3.googleusercontent.com/a-/AOh14GjEM1h4_jlaIbqsJqo5PlhcC4bBQIxlt5_Z7Y_oGg=s64",
      "userId": "04727579243057026808"
     },
     "user_tz": -540
    },
    "id": "Vxlbtx77FO3_"
   },
   "outputs": [],
   "source": []
  },
  {
   "cell_type": "markdown",
   "metadata": {
    "id": "EDeEZJtLS6NB"
   },
   "source": [
    "### 3-2. 조건필터"
   ]
  },
  {
   "cell_type": "markdown",
   "metadata": {
    "id": "X5XV9DqwTC8F"
   },
   "source": [
    "조건 연산자를 활용하여 필터를 생성할 수 있습니다"
   ]
  },
  {
   "cell_type": "code",
   "execution_count": null,
   "metadata": {
    "executionInfo": {
     "elapsed": 313,
     "status": "aborted",
     "timestamp": 1625586358706,
     "user": {
      "displayName": "박희진",
      "photoUrl": "https://lh3.googleusercontent.com/a-/AOh14GjEM1h4_jlaIbqsJqo5PlhcC4bBQIxlt5_Z7Y_oGg=s64",
      "userId": "04727579243057026808"
     },
     "user_tz": -540
    },
    "id": "oHIkQsBmSxTv"
   },
   "outputs": [],
   "source": [
    "arr2d > 2"
   ]
  },
  {
   "cell_type": "markdown",
   "metadata": {
    "id": "viTCv7dmS22G"
   },
   "source": [
    "필터를 활용하여 필터에 True 조건만 색인 합니다."
   ]
  },
  {
   "cell_type": "markdown",
   "metadata": {
    "id": "MH_2u6F5TPZP"
   },
   "source": [
    "이럴 때 꺾쇠 괄호로 한 번 더 묶어만 주면 됩니다. (꺾쇠 괄호 안에 조건문 삽입) \n",
    "\n",
    "arr2d[**조건필터**]"
   ]
  },
  {
   "cell_type": "code",
   "execution_count": null,
   "metadata": {
    "executionInfo": {
     "elapsed": 313,
     "status": "aborted",
     "timestamp": 1625586358706,
     "user": {
      "displayName": "박희진",
      "photoUrl": "https://lh3.googleusercontent.com/a-/AOh14GjEM1h4_jlaIbqsJqo5PlhcC4bBQIxlt5_Z7Y_oGg=s64",
      "userId": "04727579243057026808"
     },
     "user_tz": -540
    },
    "id": "y0EAI6j5neQf"
   },
   "outputs": [],
   "source": [
    "arr2d = np.array([[1, 2, 3, 4], \n",
    "                  [5, 6, 7, 8], \n",
    "                  [9, 10, 11, 12]])"
   ]
  },
  {
   "cell_type": "code",
   "execution_count": null,
   "metadata": {
    "executionInfo": {
     "elapsed": 8,
     "status": "aborted",
     "timestamp": 1625586358707,
     "user": {
      "displayName": "박희진",
      "photoUrl": "https://lh3.googleusercontent.com/a-/AOh14GjEM1h4_jlaIbqsJqo5PlhcC4bBQIxlt5_Z7Y_oGg=s64",
      "userId": "04727579243057026808"
     },
     "user_tz": -540
    },
    "id": "BfsZ4aNUTAxI"
   },
   "outputs": [],
   "source": [
    "arr2d[ arr2d > 2 ]"
   ]
  },
  {
   "cell_type": "code",
   "execution_count": null,
   "metadata": {
    "executionInfo": {
     "elapsed": 8,
     "status": "aborted",
     "timestamp": 1625586358708,
     "user": {
      "displayName": "박희진",
      "photoUrl": "https://lh3.googleusercontent.com/a-/AOh14GjEM1h4_jlaIbqsJqo5PlhcC4bBQIxlt5_Z7Y_oGg=s64",
      "userId": "04727579243057026808"
     },
     "user_tz": -540
    },
    "id": "O1AxvNb9TNRV"
   },
   "outputs": [],
   "source": [
    "arr2d[ arr2d < 5 ]"
   ]
  },
  {
   "cell_type": "code",
   "execution_count": null,
   "metadata": {
    "executionInfo": {
     "elapsed": 8,
     "status": "aborted",
     "timestamp": 1625586358708,
     "user": {
      "displayName": "박희진",
      "photoUrl": "https://lh3.googleusercontent.com/a-/AOh14GjEM1h4_jlaIbqsJqo5PlhcC4bBQIxlt5_Z7Y_oGg=s64",
      "userId": "04727579243057026808"
     },
     "user_tz": -540
    },
    "id": "j72bNPGZTkSi"
   },
   "outputs": [],
   "source": []
  }
 ],
 "metadata": {
  "colab": {
   "collapsed_sections": [
    "HofWSyh-SCgA",
    "I6JtSZjoSEn4"
   ],
   "name": "2_numpy.ipynb",
   "provenance": []
  },
  "kernelspec": {
   "name": "pycharm-b8abca75",
   "language": "python",
   "display_name": "PyCharm (opencvEx)"
  },
  "language_info": {
   "codemirror_mode": {
    "name": "ipython",
    "version": 3
   },
   "file_extension": ".py",
   "mimetype": "text/x-python",
   "name": "python",
   "nbconvert_exporter": "python",
   "pygments_lexer": "ipython3",
   "version": "3.7.10"
  }
 },
 "nbformat": 4,
 "nbformat_minor": 1
}