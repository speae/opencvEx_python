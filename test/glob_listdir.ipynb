{
 "cells": [
  {
   "cell_type": "code",
   "execution_count": 1,
   "id": "609c7f28",
   "metadata": {},
   "outputs": [],
   "source": [
    "import glob\n",
    "import cv2\n",
    "import os"
   ]
  },
  {
   "cell_type": "code",
   "execution_count": 7,
   "id": "e5588f29",
   "metadata": {},
   "outputs": [],
   "source": [
    "image_path = \"C:/Users/BIT-R42/opencvEx/test/images/*.jpg\"\n",
    "img_files = glob.glob(image_path)"
   ]
  },
  {
   "cell_type": "code",
   "execution_count": 13,
   "id": "c3a5994f",
   "metadata": {},
   "outputs": [
    {
     "data": {
      "text/plain": [
       "['C:/Users/BIT-R42/opencvEx/test/images\\\\autumn_forest_park_128379_1920x1080.jpg',\n",
       " 'C:/Users/BIT-R42/opencvEx/test/images\\\\boat_mountains_lake_135258_1920x1080.jpg',\n",
       " 'C:/Users/BIT-R42/opencvEx/test/images\\\\forest_fog_trees_128751_1920x1080.jpg',\n",
       " 'C:/Users/BIT-R42/opencvEx/test/images\\\\pier_dock_sea_dusk_shore_118549_1920x1080.jpg',\n",
       " 'C:/Users/BIT-R42/opencvEx/test/images\\\\road_marking_evening_clouds_horizon_120298_1920x1080.jpg']"
      ]
     },
     "execution_count": 13,
     "metadata": {},
     "output_type": "execute_result"
    }
   ],
   "source": [
    "img_files"
   ]
  },
  {
   "cell_type": "code",
   "execution_count": 5,
   "id": "caaf8c2d",
   "metadata": {},
   "outputs": [
    {
     "name": "stdout",
     "output_type": "stream",
     "text": [
      "\\\n"
     ]
    }
   ],
   "source": [
    "print(os.path.sep)"
   ]
  },
  {
   "cell_type": "code",
   "execution_count": 11,
   "id": "424b6afd",
   "metadata": {},
   "outputs": [],
   "source": [
    "image_path2 = \"C:/Users/BIT-R42/opencvEx/ch01/images\"\n",
    "img_files2 = os.listdir(image_path2)"
   ]
  },
  {
   "cell_type": "code",
   "execution_count": 21,
   "id": "1cea143d",
   "metadata": {},
   "outputs": [],
   "source": [
    "mylist = []\n",
    "img_files2\n",
    "for img in img_files2:\n",
    "    filename, extension = os.path.splitext(img)\n",
    "#     print('filename:{}'.format(filename))\n",
    "#     print('ext:{}'.format(extension))\n",
    "    if extension == \".jpg\":\n",
    "        mylist.append(img)"
   ]
  },
  {
   "cell_type": "code",
   "execution_count": 22,
   "id": "d86add84",
   "metadata": {},
   "outputs": [
    {
     "data": {
      "text/plain": [
       "['autumn_forest_park_128379_1920x1080.jpg',\n",
       " 'boat_mountains_lake_135258_1920x1080.jpg',\n",
       " 'forest_fog_trees_128751_1920x1080.jpg',\n",
       " 'pier_dock_sea_dusk_shore_118549_1920x1080.jpg',\n",
       " 'road_marking_evening_clouds_horizon_120298_1920x1080.jpg']"
      ]
     },
     "execution_count": 22,
     "metadata": {},
     "output_type": "execute_result"
    }
   ],
   "source": [
    "mylist"
   ]
  },
  {
   "cell_type": "code",
   "execution_count": null,
   "id": "b89231c4",
   "metadata": {},
   "outputs": [],
   "source": []
  }
 ],
 "metadata": {
  "kernelspec": {
   "display_name": "Python 3",
   "language": "python",
   "name": "python3"
  },
  "language_info": {
   "codemirror_mode": {
    "name": "ipython",
    "version": 3
   },
   "file_extension": ".py",
   "mimetype": "text/x-python",
   "name": "python",
   "nbconvert_exporter": "python",
   "pygments_lexer": "ipython3",
   "version": "3.7.10"
  }
 },
 "nbformat": 4,
 "nbformat_minor": 5
}
