{
 "cells": [
  {
   "cell_type": "code",
   "execution_count": 1,
   "id": "6fb0f1d0",
   "metadata": {},
   "outputs": [],
   "source": [
    "import sys"
   ]
  },
  {
   "cell_type": "code",
   "execution_count": 31,
   "id": "bcb62c73",
   "metadata": {},
   "outputs": [],
   "source": [
    "# 상품 정보 태그에서 원하는 정보를 추출하는 함수\n",
    "def get_prod_items(prod_items):\n",
    "    prod_data = []\n",
    "    none_data = []\n",
    "    \n",
    "    for prod_item in prod_items:\n",
    "        try: \n",
    "            # 상품명 가져오기\n",
    "            title = prod_item.select('p.prod_name > a')[0].text.strip()\n",
    "            # 스펙 목록 가져오기\n",
    "            spec_list = prod_item.select('div.spec_list')[0].text.strip()\n",
    "            # 가격 정보 가져오기\n",
    "            price = prod_item.select('li.rank_one > p.price_sect > a > strong')[0].text.strip().replace(\",\", \"\")\n",
    "        \n",
    "        # prod_name에서 상품명, 스펙 목록, 가격 정보 없이 빈 박스 상태만 있는 경우 존재 -> 쓰레기 데이터 버리기\n",
    "        except Exception as ex:\n",
    "            print(ex)\n",
    "            title = None\n",
    "            spec_list = None\n",
    "            price = None\n",
    "            none_data.append([title, spec_list, price])\n",
    "            \n",
    "        # Nonetype error 방지와 '/'이 있는 데이터만 저장\n",
    "        if spec_list is not None and '/' in spec_list:   \n",
    "            if not price.isdigit():\n",
    "                price = 0\n",
    "            prod_data.append([title, spec_list, int(price)])\n",
    "\n",
    "    return prod_data"
   ]
  },
  {
   "cell_type": "code",
   "execution_count": 3,
   "id": "8a84152c",
   "metadata": {},
   "outputs": [
    {
     "name": "stdout",
     "output_type": "stream",
     "text": [
      "http://search.danawa.com/dsearch.php?query=무선청소기&volumeType=allvs&page=1&limit=30&sort=saveDESC&list=list&boost=true&addDeliver=N&tab=goods&tab=goods\n"
     ]
    }
   ],
   "source": [
    "# 다나와 검색 URL을 만들어주는 함수\n",
    "def get_search_page_url(keyword, page):\n",
    "    return 'http://search.danawa.com/dsearch.php?query={}&volumeType=allvs&page={}&limit=30&sort=saveDESC&list=list&boost=true&addDeliver=N&tab=goods&tab=goods'.format(keyword, page)\n",
    "\n",
    "keyword = '무선청소기'\n",
    "page = 1\n",
    "url = get_search_page_url(keyword, page)\n",
    "print(url)"
   ]
  },
  {
   "cell_type": "code",
   "execution_count": 4,
   "id": "00dac560",
   "metadata": {},
   "outputs": [
    {
     "name": "stdout",
     "output_type": "stream",
     "text": [
      "Requirement already satisfied: tqdm in c:\\users\\bit-r42\\.conda\\envs\\opencv\\lib\\site-packages (4.62.0)\n",
      "Requirement already satisfied: colorama in c:\\users\\bit-r42\\.conda\\envs\\opencv\\lib\\site-packages (from tqdm) (0.4.4)\n"
     ]
    }
   ],
   "source": [
    "# tqdm 모듈을 이용하여 전체 과정 중 \n",
    "# 현재 진행 단계, 지금까지의 소요 시간, 1회 작업 시 소요시간, 예상 완료시간 등을 확인 가능\n",
    "!pip3 install tqdm"
   ]
  },
  {
   "cell_type": "code",
   "execution_count": 4,
   "id": "4adc607e",
   "metadata": {},
   "outputs": [],
   "source": [
    "import time\n",
    "from tqdm.notebook import tqdm"
   ]
  },
  {
   "cell_type": "code",
   "execution_count": 5,
   "id": "04553a83",
   "metadata": {},
   "outputs": [
    {
     "data": {
      "application/vnd.jupyter.widget-view+json": {
       "model_id": "12d45298e832440d9a309e1195e8bc74",
       "version_major": 2,
       "version_minor": 0
      },
      "text/plain": [
       "  0%|          | 0/10 [00:00<?, ?it/s]"
      ]
     },
     "metadata": {},
     "output_type": "display_data"
    }
   ],
   "source": [
    "total_page = 10\n",
    "for page in tqdm(range(1, total_page + 1)):\n",
    "    # 페이지가 로딩 완료되기 위한 시간을 5초를 준다.\n",
    "    time.sleep(1)"
   ]
  },
  {
   "cell_type": "code",
   "execution_count": 15,
   "id": "13877cf3",
   "metadata": {},
   "outputs": [],
   "source": [
    "from selenium import webdriver\n",
    "import time\n",
    "from bs4 import BeautifulSoup\n",
    "from tqdm.notebook import tqdm as tqdm_notebook"
   ]
  },
  {
   "cell_type": "code",
   "execution_count": 32,
   "id": "77b9352d",
   "metadata": {},
   "outputs": [
    {
     "data": {
      "application/vnd.jupyter.widget-view+json": {
       "model_id": "d00e5d52021141dda72b6f8913b4587a",
       "version_major": 2,
       "version_minor": 0
      },
      "text/plain": [
       "  0%|          | 0/10 [00:00<?, ?it/s]"
      ]
     },
     "metadata": {},
     "output_type": "display_data"
    },
    {
     "name": "stdout",
     "output_type": "stream",
     "text": [
      "list index out of range\n",
      "list index out of range\n",
      "list index out of range\n",
      "40\n",
      "list index out of range\n",
      "list index out of range\n",
      "list index out of range\n",
      "80\n",
      "list index out of range\n",
      "list index out of range\n",
      "list index out of range\n",
      "120\n",
      "list index out of range\n",
      "list index out of range\n",
      "list index out of range\n",
      "160\n",
      "list index out of range\n",
      "list index out of range\n",
      "list index out of range\n",
      "200\n",
      "list index out of range\n",
      "list index out of range\n",
      "list index out of range\n",
      "240\n",
      "list index out of range\n",
      "list index out of range\n",
      "list index out of range\n",
      "280\n",
      "list index out of range\n",
      "list index out of range\n",
      "list index out of range\n",
      "320\n",
      "list index out of range\n",
      "list index out of range\n",
      "list index out of range\n",
      "360\n",
      "list index out of range\n",
      "list index out of range\n",
      "list index out of range\n",
      "400\n"
     ]
    }
   ],
   "source": [
    "keyword = \"무선청소기\"\n",
    "total_page = 10\n",
    "prod_data_total = []\n",
    "\n",
    "\n",
    "# 실전 다나와 크롤링\n",
    "driver = webdriver.Chrome('C:/playwithdata/chromedriver.exe')\n",
    "\n",
    "# 암묵적으로 웹 자원 로드를 위해 3초까지 기다림\n",
    "# driver.implicitly_wait(3)\n",
    "\n",
    "# 진행정도를 표현하는 tqdm을 적용\n",
    "for page in tqdm_notebook(range(1, total_page + 1)):\n",
    "    # 검색 페이지 이동\n",
    "    url = get_search_page_url(keyword, page)\n",
    "    driver.get(url)\n",
    "\n",
    "#     # 페이지가 로딩 완료되기 위한 시간으로 5초 할당\n",
    "    time.sleep(1)\n",
    "    \n",
    "    # 현재 페이지의 HTML 정보 가져오기\n",
    "    html = driver.page_source\n",
    "    soup = BeautifulSoup(html, 'html.parser')\n",
    "\n",
    "    # 상품 정보 추출\n",
    "    prod_items = soup.select('div#productListArea > div.main_prodlist > ul.product_list > li.prod_item')\n",
    "    prod_item_list = get_prod_items(prod_items)\n",
    "\n",
    "    # 추출 데이터 저장\n",
    "    prod_data_total = prod_data_total + prod_item_list\n",
    "    print(len(prod_data_total))"
   ]
  },
  {
   "cell_type": "code",
   "execution_count": 135,
   "id": "57b534ab",
   "metadata": {},
   "outputs": [
    {
     "name": "stdout",
     "output_type": "stream",
     "text": [
      "400\n"
     ]
    }
   ],
   "source": [
    "print(len(prod_data_total))"
   ]
  },
  {
   "cell_type": "code",
   "execution_count": 153,
   "id": "ec710cf5",
   "metadata": {},
   "outputs": [
    {
     "name": "stdout",
     "output_type": "stream",
     "text": [
      "[['LG전자 오브제컬렉션 코드제로 ThinQ A9S AO9571', '핸디/스틱청소기 / 핸디+스틱형 / 무선형 / 흡입+걸레겸용 / [성능] 2중터보싸이클론 / 스마트인버터모터 / 흡입력: 210W / 소비전력: 590W / [배터리] 분리형 / 리튬이온 (2개) / 충전시간: 4시간 / 사용시간: 1시간(개당) / [필터] 헤파필터 / H13급 / 5단계여과 / [기능] 자동물공급 / 배터리잔량표시 / IoT기능 / [구성] 바닥 / 물걸레 / 침구 / 솔형 / 틈새 / 올인원타워 / [부가] 알레르기인증(BAF) / 미세먼지인증(SLG) / 색상: 카밍베이지 / 무게: 2.6kg / 분리형배기필터 / 먼지통자동비움 / 크기(가로x세로x깊이): 250x1120x260mm', 1149590], ['샤오미 드리미 V10', '핸디/스틱청소기 / 핸디+스틱형 / 무선형 / 흡입전용 / [성능] 멀티싸이클론 / BLDC모터 / 흡입력: 140AW / 흡입력: 22000Pa / 소비전력: 450W / [배터리] 용량: 2500mAh / 충전시간: 3시간30분 / 사용시간: 1시간(개당) / [필터] 헤파필터 / H12급 / 5단계여과 / [구성] 바닥 / 침구 / 솔형 / 틈새 / 연장툴 / 거치대 / [부가] 먼지통용량: 0.5L / 색상: 화이트 / 무게: 1.5kg', 150390], ['삼성전자 제트 VS20T9218QDCC', '핸디/스틱청소기 / 핸디+스틱형 / 무선형 / 흡입+걸레겸용 / [성능] 싸이클론 / 인버터모터 / 흡입력: 200W / 소비전력: 550W / [배터리] 분리형 / 리튬이온 / 충전시간: 3시간30분 / 사용시간: 1시간(개당) / [필터] 헤파필터 / 5단계여과 / [기능] 디스플레이표시창 / 프리볼트 / [구성] 바닥 / 물걸레 / 솔형 / 틈새 / 연장툴 / 거치대 / 청정스테이션 / [부가] 먼지통용량: 0.5L / 알레르기인증(BAF) / 미세먼지인증(SLG) / 색상: 티탄+그레이 / 무게: 2.64kg / 크기(가로x세로x깊이): 250x1123x215mm', 547040], ['샤오미 CLEANFLY 차량용 무선 청소기 4세대 H2 (해외구매)', '차량용청소기 / 무선 / 흡입력: 16,800Pa / 최대출력: 120W / 헤파필터 / 스테인리스 필터 / 추가노즐: 틈새, 솔브러쉬, 연장호스 / 사용시간: 30분 / 소음: 73.8dB / 충전방식: USB C타입 / 배터리용량: 2,000mAh / 색상: 블랙, 화이트 / 크기: 369x72mm / 무게: 560g', 60610], ['삼성전자 비스포크 제트 VS20A956A3', '핸디/스틱청소기 / 핸디+스틱형 / 무선형 / 흡입+걸레겸용 / [성능] 제트싸이클론 / 디지털인버터모터 / 흡입력: 210W / [배터리] 분리형 / 리튬이온 / 용량: 2200mAh / 충전시간: 3시간30분 / 사용시간: 1시간(개당) / [필터] 5단계여과 / [기능] 자동물공급 / 디스플레이표시창 / 배터리잔량표시 / [구성] 바닥 / 솔형 / 틈새 / 연장툴 / 거치대 / 청정스테이션 / [부가] 먼지통용량: 0.5L / 물통용량: 0.15L / 알레르기인증(BAF) / 미세먼지인증(SLG) / 색상: 미드나잇블루 / 무게: 2.5kg / 먼지통자동비움 / 액세서리크래들  / 크기(가로x세로x깊이): 250x930x202mm', 696760], ['샤오미 미지아 차량용 핸디 무선 청소기 (해외구매)', '차량용청소기 / 무선 / 흡입력: 13,000Pa / 최대출력: 120W / 헤파필터 / 추가노즐: 틈새, 솔브러쉬 / 사용시간: 9~30분 / 버튼 잠금 장치 / 2단 세기 조절 / 크기: 55x267mm / 무게: 500g', 36480], ['샤오미 TROUVER TECH SOLO10', '핸디/스틱청소기 / 핸디+스틱형 / 무선형 / 흡입전용 / [성능] BLDC모터 / 흡입력: 85AW / 흡입력: 18000Pa / 소비전력: 300W / [배터리] 내장형 / 용량: 2000mAh / 충전시간: 3시간30분 / 사용시간: 48분(개당) / [필터] 5단계여과 / [기능] 디스플레이표시창 / 배터리잔량표시 / [구성] 바닥 / 솔형 / 틈새 / [부가] 먼지통용량: 0.4L / 색상: 화이트+레드 / 무게: 1.4kg', 64500], ['일렉트로룩스 WELL Q6 WQ61-1OGG', '핸디/스틱청소기 / 핸디+스틱형 / 무선형 / 흡입전용 / [성능] 싸이클론 / [배터리] 리튬이온 / 충전시간: 4시간30분 / 사용시간: 45분(개당) / [필터] 5단계여과 / [기능] 브러쉬자동청소 / 셀프스탠딩 / LED라이트 / 배터리잔량표시 / [구성] 바닥 / 솔형 / 틈새 / 거치대 / [부가] 먼지통용량: 0.3L / 색상: 그라나이트그레이 / 무게: 2.65kg / 크기(가로x세로x깊이): 386x692x146mm', 152940], ['샤오미 CLEANFLY 차량용 무선 청소기 3세대 (해외구매)', '차량용청소기 / 무선 / 흡입력: 16,800Pa / 최대출력: 120W / 헤파필터 / 스테인리스 필터 / 추가노즐: 틈새, 솔브러쉬, 연장호스 / 사용시간: 25분 / 크기: 369x72mm / 무게: 560g / 충전방식: USB C타입 / 배터리용량: 2,000mAh', 49800], ['카렉스 파워스톰 미니 무선청소기', '차량용청소기 / 무선 / 흡입력: 12,000Pa / 2중필터 / 헤파필터 / 추가노즐: 틈새, 솔브러쉬 / 사용시간: 17분 / 충전방식: 시거잭, 220V / BLCD모터 / 충전시간: 5시간30분 / 크기: 93x439mm / 무게: 505g', 76460]]\n"
     ]
    }
   ],
   "source": [
    "print(prod_data_total[0:10])"
   ]
  },
  {
   "cell_type": "code",
   "execution_count": 63,
   "id": "ef35659a",
   "metadata": {},
   "outputs": [
    {
     "name": "stdout",
     "output_type": "stream",
     "text": [
      "Requirement already satisfied: pandas in c:\\users\\administrator\\miniconda3\\envs\\opencv\\lib\\site-packages (1.3.2)\n",
      "Requirement already satisfied: pytz>=2017.3 in c:\\users\\administrator\\miniconda3\\envs\\opencv\\lib\\site-packages (from pandas) (2021.1)\n",
      "Requirement already satisfied: numpy>=1.17.3 in c:\\users\\administrator\\miniconda3\\envs\\opencv\\lib\\site-packages (from pandas) (1.19.5)\n",
      "Requirement already satisfied: python-dateutil>=2.7.3 in c:\\users\\administrator\\miniconda3\\envs\\opencv\\lib\\site-packages (from pandas) (2.8.2)\n",
      "Requirement already satisfied: six>=1.5 in c:\\users\\administrator\\miniconda3\\envs\\opencv\\lib\\site-packages (from python-dateutil>=2.7.3->pandas) (1.15.0)\n"
     ]
    }
   ],
   "source": [
    "!pip3 install pandas"
   ]
  },
  {
   "cell_type": "code",
   "execution_count": 1,
   "id": "84332635",
   "metadata": {},
   "outputs": [
    {
     "name": "stdout",
     "output_type": "stream",
     "text": [
      "Requirement already satisfied: openpyxl in c:\\users\\bit-r42\\.conda\\envs\\opencv\\lib\\site-packages (3.0.7)\n",
      "Requirement already satisfied: et-xmlfile in c:\\users\\bit-r42\\.conda\\envs\\opencv\\lib\\site-packages (from openpyxl) (1.1.0)\n"
     ]
    }
   ],
   "source": [
    "!pip3 install openpyxl"
   ]
  },
  {
   "cell_type": "code",
   "execution_count": 11,
   "id": "cd1c8f2e",
   "metadata": {},
   "outputs": [],
   "source": [
    "import pandas as pd"
   ]
  },
  {
   "cell_type": "code",
   "execution_count": 14,
   "id": "395c86b1",
   "metadata": {},
   "outputs": [
    {
     "data": {
      "text/plain": [
       "pandas.core.frame.DataFrame"
      ]
     },
     "execution_count": 14,
     "metadata": {},
     "output_type": "execute_result"
    }
   ],
   "source": [
    "data = pd.DataFrame(prod_data_total)\n",
    "type(data)"
   ]
  },
  {
   "cell_type": "code",
   "execution_count": 18,
   "id": "87dc4971",
   "metadata": {},
   "outputs": [],
   "source": [
    "data = pd.DataFrame(prod_data_total)\n",
    "data.columns = ['상품명', '스펙 목록', '가격']\n",
    "data.to_excel('./1_danawa_crawling_result.xlsx', index = False)"
   ]
  }
 ],
 "metadata": {
  "kernelspec": {
   "display_name": "Python 3",
   "language": "python",
   "name": "python3"
  },
  "language_info": {
   "codemirror_mode": {
    "name": "ipython",
    "version": 3
   },
   "file_extension": ".py",
   "mimetype": "text/x-python",
   "name": "python",
   "nbconvert_exporter": "python",
   "pygments_lexer": "ipython3",
   "version": "3.7.10"
  }
 },
 "nbformat": 4,
 "nbformat_minor": 5
}